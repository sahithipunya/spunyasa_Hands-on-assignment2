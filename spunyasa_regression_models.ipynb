{
  "nbformat": 4,
  "nbformat_minor": 0,
  "metadata": {
    "colab": {
      "provenance": [],
      "authorship_tag": "ABX9TyPjxeY4hVhbDn4b+WuF2amn",
      "include_colab_link": true
    },
    "kernelspec": {
      "name": "python3",
      "display_name": "Python 3"
    },
    "language_info": {
      "name": "python"
    }
  },
  "cells": [
    {
      "cell_type": "markdown",
      "metadata": {
        "id": "view-in-github",
        "colab_type": "text"
      },
      "source": [
        "<a href=\"https://colab.research.google.com/github/sahithipunya/spunyasa_Hands-on-assignment2/blob/main/spunyasa_regression_models.ipynb\" target=\"_parent\"><img src=\"https://colab.research.google.com/assets/colab-badge.svg\" alt=\"Open In Colab\"/></a>"
      ]
    },
    {
      "cell_type": "markdown",
      "source": [
        "**HANDS-ON SESSION-II: DATA MINING TOOLS**\n",
        "\n",
        "**Regression MODELS**\n",
        "\n",
        "importing the libraries"
      ],
      "metadata": {
        "id": "QyOsOmiriM9D"
      }
    },
    {
      "cell_type": "code",
      "execution_count": 1,
      "metadata": {
        "id": "rKRX9K5XSR2Y"
      },
      "outputs": [],
      "source": [
        "import pandas as pd\n",
        "import matplotlib.pyplot as plt\n",
        "from sklearn.model_selection import train_test_split\n",
        "from sklearn.preprocessing import OneHotEncoder, StandardScaler\n",
        "from sklearn.linear_model import LinearRegression\n",
        "from sklearn.ensemble import RandomForestRegressor, GradientBoostingRegressor\n",
        "from sklearn.linear_model import LogisticRegression\n",
        "from sklearn.metrics import accuracy_score, classification_report, confusion_matrix\n",
        "from sklearn.metrics import mean_squared_error, r2_score\n",
        "from sklearn.linear_model import Ridge, Lasso, ElasticNet\n",
        "from sklearn.model_selection import cross_val_score, KFold\n",
        "from sklearn.metrics import make_scorer, mean_squared_error\n",
        "from sklearn.compose import ColumnTransformer\n",
        "from sklearn.tree import DecisionTreeRegressor\n",
        "from sklearn.pipeline import Pipeline\n",
        "import numpy as np"
      ]
    },
    {
      "cell_type": "markdown",
      "source": [
        "Upload the file"
      ],
      "metadata": {
        "id": "OFGz3Z7DiVhE"
      }
    },
    {
      "cell_type": "code",
      "source": [
        "from google.colab import files\n",
        "uploaded = files.upload()"
      ],
      "metadata": {
        "id": "43DpTbUzBKbK",
        "colab": {
          "base_uri": "https://localhost:8080/",
          "height": 73
        },
        "outputId": "0f3d7b0e-2881-4d53-94ad-3a1473a9026a"
      },
      "execution_count": 2,
      "outputs": [
        {
          "output_type": "display_data",
          "data": {
            "text/plain": [
              "<IPython.core.display.HTML object>"
            ],
            "text/html": [
              "\n",
              "     <input type=\"file\" id=\"files-4855d4b7-2135-418e-afc6-3b288ad57247\" name=\"files[]\" multiple disabled\n",
              "        style=\"border:none\" />\n",
              "     <output id=\"result-4855d4b7-2135-418e-afc6-3b288ad57247\">\n",
              "      Upload widget is only available when the cell has been executed in the\n",
              "      current browser session. Please rerun this cell to enable.\n",
              "      </output>\n",
              "      <script>// Copyright 2017 Google LLC\n",
              "//\n",
              "// Licensed under the Apache License, Version 2.0 (the \"License\");\n",
              "// you may not use this file except in compliance with the License.\n",
              "// You may obtain a copy of the License at\n",
              "//\n",
              "//      http://www.apache.org/licenses/LICENSE-2.0\n",
              "//\n",
              "// Unless required by applicable law or agreed to in writing, software\n",
              "// distributed under the License is distributed on an \"AS IS\" BASIS,\n",
              "// WITHOUT WARRANTIES OR CONDITIONS OF ANY KIND, either express or implied.\n",
              "// See the License for the specific language governing permissions and\n",
              "// limitations under the License.\n",
              "\n",
              "/**\n",
              " * @fileoverview Helpers for google.colab Python module.\n",
              " */\n",
              "(function(scope) {\n",
              "function span(text, styleAttributes = {}) {\n",
              "  const element = document.createElement('span');\n",
              "  element.textContent = text;\n",
              "  for (const key of Object.keys(styleAttributes)) {\n",
              "    element.style[key] = styleAttributes[key];\n",
              "  }\n",
              "  return element;\n",
              "}\n",
              "\n",
              "// Max number of bytes which will be uploaded at a time.\n",
              "const MAX_PAYLOAD_SIZE = 100 * 1024;\n",
              "\n",
              "function _uploadFiles(inputId, outputId) {\n",
              "  const steps = uploadFilesStep(inputId, outputId);\n",
              "  const outputElement = document.getElementById(outputId);\n",
              "  // Cache steps on the outputElement to make it available for the next call\n",
              "  // to uploadFilesContinue from Python.\n",
              "  outputElement.steps = steps;\n",
              "\n",
              "  return _uploadFilesContinue(outputId);\n",
              "}\n",
              "\n",
              "// This is roughly an async generator (not supported in the browser yet),\n",
              "// where there are multiple asynchronous steps and the Python side is going\n",
              "// to poll for completion of each step.\n",
              "// This uses a Promise to block the python side on completion of each step,\n",
              "// then passes the result of the previous step as the input to the next step.\n",
              "function _uploadFilesContinue(outputId) {\n",
              "  const outputElement = document.getElementById(outputId);\n",
              "  const steps = outputElement.steps;\n",
              "\n",
              "  const next = steps.next(outputElement.lastPromiseValue);\n",
              "  return Promise.resolve(next.value.promise).then((value) => {\n",
              "    // Cache the last promise value to make it available to the next\n",
              "    // step of the generator.\n",
              "    outputElement.lastPromiseValue = value;\n",
              "    return next.value.response;\n",
              "  });\n",
              "}\n",
              "\n",
              "/**\n",
              " * Generator function which is called between each async step of the upload\n",
              " * process.\n",
              " * @param {string} inputId Element ID of the input file picker element.\n",
              " * @param {string} outputId Element ID of the output display.\n",
              " * @return {!Iterable<!Object>} Iterable of next steps.\n",
              " */\n",
              "function* uploadFilesStep(inputId, outputId) {\n",
              "  const inputElement = document.getElementById(inputId);\n",
              "  inputElement.disabled = false;\n",
              "\n",
              "  const outputElement = document.getElementById(outputId);\n",
              "  outputElement.innerHTML = '';\n",
              "\n",
              "  const pickedPromise = new Promise((resolve) => {\n",
              "    inputElement.addEventListener('change', (e) => {\n",
              "      resolve(e.target.files);\n",
              "    });\n",
              "  });\n",
              "\n",
              "  const cancel = document.createElement('button');\n",
              "  inputElement.parentElement.appendChild(cancel);\n",
              "  cancel.textContent = 'Cancel upload';\n",
              "  const cancelPromise = new Promise((resolve) => {\n",
              "    cancel.onclick = () => {\n",
              "      resolve(null);\n",
              "    };\n",
              "  });\n",
              "\n",
              "  // Wait for the user to pick the files.\n",
              "  const files = yield {\n",
              "    promise: Promise.race([pickedPromise, cancelPromise]),\n",
              "    response: {\n",
              "      action: 'starting',\n",
              "    }\n",
              "  };\n",
              "\n",
              "  cancel.remove();\n",
              "\n",
              "  // Disable the input element since further picks are not allowed.\n",
              "  inputElement.disabled = true;\n",
              "\n",
              "  if (!files) {\n",
              "    return {\n",
              "      response: {\n",
              "        action: 'complete',\n",
              "      }\n",
              "    };\n",
              "  }\n",
              "\n",
              "  for (const file of files) {\n",
              "    const li = document.createElement('li');\n",
              "    li.append(span(file.name, {fontWeight: 'bold'}));\n",
              "    li.append(span(\n",
              "        `(${file.type || 'n/a'}) - ${file.size} bytes, ` +\n",
              "        `last modified: ${\n",
              "            file.lastModifiedDate ? file.lastModifiedDate.toLocaleDateString() :\n",
              "                                    'n/a'} - `));\n",
              "    const percent = span('0% done');\n",
              "    li.appendChild(percent);\n",
              "\n",
              "    outputElement.appendChild(li);\n",
              "\n",
              "    const fileDataPromise = new Promise((resolve) => {\n",
              "      const reader = new FileReader();\n",
              "      reader.onload = (e) => {\n",
              "        resolve(e.target.result);\n",
              "      };\n",
              "      reader.readAsArrayBuffer(file);\n",
              "    });\n",
              "    // Wait for the data to be ready.\n",
              "    let fileData = yield {\n",
              "      promise: fileDataPromise,\n",
              "      response: {\n",
              "        action: 'continue',\n",
              "      }\n",
              "    };\n",
              "\n",
              "    // Use a chunked sending to avoid message size limits. See b/62115660.\n",
              "    let position = 0;\n",
              "    do {\n",
              "      const length = Math.min(fileData.byteLength - position, MAX_PAYLOAD_SIZE);\n",
              "      const chunk = new Uint8Array(fileData, position, length);\n",
              "      position += length;\n",
              "\n",
              "      const base64 = btoa(String.fromCharCode.apply(null, chunk));\n",
              "      yield {\n",
              "        response: {\n",
              "          action: 'append',\n",
              "          file: file.name,\n",
              "          data: base64,\n",
              "        },\n",
              "      };\n",
              "\n",
              "      let percentDone = fileData.byteLength === 0 ?\n",
              "          100 :\n",
              "          Math.round((position / fileData.byteLength) * 100);\n",
              "      percent.textContent = `${percentDone}% done`;\n",
              "\n",
              "    } while (position < fileData.byteLength);\n",
              "  }\n",
              "\n",
              "  // All done.\n",
              "  yield {\n",
              "    response: {\n",
              "      action: 'complete',\n",
              "    }\n",
              "  };\n",
              "}\n",
              "\n",
              "scope.google = scope.google || {};\n",
              "scope.google.colab = scope.google.colab || {};\n",
              "scope.google.colab._files = {\n",
              "  _uploadFiles,\n",
              "  _uploadFilesContinue,\n",
              "};\n",
              "})(self);\n",
              "</script> "
            ]
          },
          "metadata": {}
        },
        {
          "output_type": "stream",
          "name": "stdout",
          "text": [
            "Saving NY-House-Dataset.csv to NY-House-Dataset.csv\n"
          ]
        }
      ]
    },
    {
      "cell_type": "markdown",
      "source": [
        "Import the data using pandas"
      ],
      "metadata": {
        "id": "hJIc_V0jiZPi"
      }
    },
    {
      "cell_type": "code",
      "source": [
        "# Load the dataset\n",
        "ny_house_data = pd.read_csv('/content/NY-House-Dataset.csv')\n",
        "ny_house_data.dropna(inplace=True)"
      ],
      "metadata": {
        "id": "2_gFhYmCRgOW"
      },
      "execution_count": 3,
      "outputs": []
    },
    {
      "cell_type": "markdown",
      "source": [
        "Select the Features and the Target Variables"
      ],
      "metadata": {
        "id": "F5rqPuW9ie4w"
      }
    },
    {
      "cell_type": "code",
      "source": [
        "features = ['TYPE', 'BEDS', 'BATH', 'PROPERTYSQFT', 'LATITUDE', 'LONGITUDE']\n",
        "target = 'PRICE'"
      ],
      "metadata": {
        "id": "qznVGdJCR96n"
      },
      "execution_count": 5,
      "outputs": []
    },
    {
      "cell_type": "markdown",
      "source": [
        "Separate features and target"
      ],
      "metadata": {
        "id": "sBpLgDprioXX"
      }
    },
    {
      "cell_type": "code",
      "source": [
        "X = ny_house_data[features]\n",
        "y = ny_house_data[target]"
      ],
      "metadata": {
        "id": "YKniNofcSJnk"
      },
      "execution_count": 7,
      "outputs": []
    },
    {
      "cell_type": "markdown",
      "source": [
        "Splitting into training and testing sets"
      ],
      "metadata": {
        "id": "ktlwrvuOis0m"
      }
    },
    {
      "cell_type": "code",
      "source": [
        "X_train, X_test, y_train, y_test = train_test_split(X, y, test_size=0.2, random_state=42)"
      ],
      "metadata": {
        "id": "rYZcZ8HFSTey"
      },
      "execution_count": 8,
      "outputs": []
    },
    {
      "cell_type": "markdown",
      "source": [
        "Define preprocessor for numerical and categorical data"
      ],
      "metadata": {
        "id": "sqDEst-2jPFa"
      }
    },
    {
      "cell_type": "code",
      "source": [
        "preprocessor = ColumnTransformer(\n",
        "    transformers=[\n",
        "        ('cat', OneHotEncoder(handle_unknown='ignore'), ['TYPE']),  # encode 'TYPE' column\n",
        "        ('num', StandardScaler(), ['BEDS', 'BATH', 'PROPERTYSQFT', 'LATITUDE', 'LONGITUDE'])\n",
        "    ]\n",
        ")\n",
        "\n",
        "# Create a pipeline that includes preprocessing and the model\n",
        "linear_pipeline = Pipeline(steps=[\n",
        "    ('preprocessor', preprocessor),\n",
        "    ('model', LinearRegression())\n",
        "])\n"
      ],
      "metadata": {
        "id": "4-B-RbGAV5wA"
      },
      "execution_count": 18,
      "outputs": []
    },
    {
      "cell_type": "markdown",
      "source": [
        "**Linear Regression Model**"
      ],
      "metadata": {
        "id": "y-mpqhEa9VoL"
      }
    },
    {
      "cell_type": "code",
      "source": [
        "# Initialize and train the Linear Regression model\n",
        "linear_pipeline.fit(X_train, y_train)\n",
        "\n",
        "# Predict on the testing set\n",
        "y_pred_linear = linear_pipeline.predict(X_test)\n",
        "\n",
        "# Evaluate the Linear Regression model\n",
        "print(\"Linear Regression Mean Squared Error:\", mean_squared_error(y_test, y_pred_linear))\n",
        "print(\"Linear Regression R^2 Score:\", r2_score(y_test, y_pred_linear))\n"
      ],
      "metadata": {
        "colab": {
          "base_uri": "https://localhost:8080/"
        },
        "id": "Eys14xB6VBe3",
        "outputId": "88b24633-e0e6-4968-ff02-4f48cca7048d"
      },
      "execution_count": 19,
      "outputs": [
        {
          "output_type": "stream",
          "name": "stdout",
          "text": [
            "Linear Regression Mean Squared Error: 23571052435484.266\n",
            "Linear Regression R^2 Score: 0.06444900142880705\n"
          ]
        }
      ]
    },
    {
      "cell_type": "markdown",
      "source": [
        "**Random Forest Regressor Model**"
      ],
      "metadata": {
        "id": "rTDiuSqL9eP3"
      }
    },
    {
      "cell_type": "code",
      "source": [
        "# Define pipeline\n",
        "rf_pipeline = Pipeline(steps=[\n",
        "    ('preprocessor', preprocessor),\n",
        "    ('model', RandomForestRegressor(random_state=42))\n",
        "])\n",
        "\n",
        "# Train and evaluate\n",
        "rf_pipeline.fit(X_train, y_train)\n",
        "y_pred = rf_pipeline.predict(X_test)\n",
        "\n",
        "# Performance metrics\n",
        "print(\"Random Forest Regressor Mean Squared Error:\", mean_squared_error(y_test, y_pred))\n",
        "print(\"Random Forest Regressor R^2 Score:\", r2_score(y_test, y_pred))"
      ],
      "metadata": {
        "colab": {
          "base_uri": "https://localhost:8080/"
        },
        "id": "ZvyCMnoxWxMW",
        "outputId": "2be0ba1e-f251-4698-b9af-81489b7ce3d1"
      },
      "execution_count": 20,
      "outputs": [
        {
          "output_type": "stream",
          "name": "stdout",
          "text": [
            "Random Forest Regressor Mean Squared Error: 10805753576844.055\n",
            "Random Forest Regressor R^2 Score: 0.5711123388825893\n"
          ]
        }
      ]
    },
    {
      "cell_type": "markdown",
      "source": [
        "**Random Forest Regressor Model with regularization parameters**"
      ],
      "metadata": {
        "id": "hIpgHkhW9xyx"
      }
    },
    {
      "cell_type": "code",
      "source": [
        "# Define pipeline\n",
        "rf_pipeline = Pipeline(steps=[\n",
        "    ('preprocessor', preprocessor),\n",
        "    ('model', RandomForestRegressor(n_estimators=100,          # Number of trees\n",
        "    max_depth=10,              # Limit the depth of each tree\n",
        "    min_samples_split=5,       # Minimum samples required to split an internal node\n",
        "    min_samples_leaf=4,        # Minimum samples required to be at a leaf node\n",
        "    max_features='sqrt',\n",
        "    random_state=42))\n",
        "])\n",
        "\n",
        "# Train and evaluate\n",
        "rf_pipeline.fit(X_train, y_train)\n",
        "y_pred = rf_pipeline.predict(X_test)\n",
        "\n",
        "# Performance metrics\n",
        "print(\"Random Forest Regressor Mean Squared Error:\", mean_squared_error(y_test, y_pred))\n",
        "print(\"Random Forest Regressor R^2 Score:\", r2_score(y_test, y_pred))"
      ],
      "metadata": {
        "colab": {
          "base_uri": "https://localhost:8080/"
        },
        "id": "pJxOquoBXmIn",
        "outputId": "01053aea-9c3a-44bd-efbd-031ac863a331"
      },
      "execution_count": 21,
      "outputs": [
        {
          "output_type": "stream",
          "name": "stdout",
          "text": [
            "Random Forest Regressor Mean Squared Error: 45760469148704.016\n",
            "Random Forest Regressor R^2 Score: -0.8162639417282667\n"
          ]
        }
      ]
    },
    {
      "cell_type": "code",
      "source": [
        "# Define pipeline\n",
        "rf_pipeline = Pipeline(steps=[\n",
        "    ('preprocessor', preprocessor),\n",
        "    ('model', RandomForestRegressor(n_estimators=300,          # Number of trees\n",
        "    max_depth=5,              # Limit the depth of each tree\n",
        "    min_samples_split=5,       # Minimum samples required to split an internal node\n",
        "    min_samples_leaf=4,        # Minimum samples required to be at a leaf node\n",
        "    max_features='sqrt',\n",
        "    random_state=42))\n",
        "])\n",
        "\n",
        "# Train and evaluate\n",
        "rf_pipeline.fit(X_train, y_train)\n",
        "y_pred = rf_pipeline.predict(X_test)\n",
        "\n",
        "# Performance metrics\n",
        "print(\"Random Forest Regressor Mean Squared Error:\", mean_squared_error(y_test, y_pred))\n",
        "print(\"Random Forest Regressor R^2 Score:\", r2_score(y_test, y_pred))"
      ],
      "metadata": {
        "colab": {
          "base_uri": "https://localhost:8080/"
        },
        "id": "UiV_vp1IYLR7",
        "outputId": "842d15c4-7188-43bc-c07e-8395e19c3609"
      },
      "execution_count": 22,
      "outputs": [
        {
          "output_type": "stream",
          "name": "stdout",
          "text": [
            "Random Forest Regressor Mean Squared Error: 50799259942686.164\n",
            "Random Forest Regressor R^2 Score: -1.0162569531478467\n"
          ]
        }
      ]
    },
    {
      "cell_type": "markdown",
      "source": [
        "**Gradient Boosting Regressor Model**"
      ],
      "metadata": {
        "id": "6bGyikRz-CEv"
      }
    },
    {
      "cell_type": "code",
      "source": [
        "# Define pipeline\n",
        "gb_pipeline = Pipeline(steps=[\n",
        "    ('preprocessor', preprocessor),\n",
        "    ('model', GradientBoostingRegressor(n_estimators=300, learning_rate=0.1, max_depth=3, random_state=42))\n",
        "])\n",
        "\n",
        "# Train and evaluate\n",
        "gb_pipeline.fit(X_train, y_train)\n",
        "y_pred = gb_pipeline.predict(X_test)\n",
        "\n",
        "# Performance metrics\n",
        "print(\"Gradient Boosting Regressor Mean Squared Error:\", mean_squared_error(y_test, y_pred))\n",
        "print(\"Gradient Boosting Regressor R^2 Score:\", r2_score(y_test, y_pred))"
      ],
      "metadata": {
        "colab": {
          "base_uri": "https://localhost:8080/"
        },
        "id": "6diOV310Yb3e",
        "outputId": "a600fea4-1e3f-4d3a-9c21-9287b032e093"
      },
      "execution_count": 23,
      "outputs": [
        {
          "output_type": "stream",
          "name": "stdout",
          "text": [
            "Gradient Boosting Regressor Mean Squared Error: 10407087799768.004\n",
            "Gradient Boosting Regressor R^2 Score: 0.5869356529607583\n"
          ]
        }
      ]
    },
    {
      "cell_type": "markdown",
      "source": [
        "**Ridge Regression Model**"
      ],
      "metadata": {
        "id": "v6gQeHmA-KPZ"
      }
    },
    {
      "cell_type": "code",
      "source": [
        "# Define pipeline\n",
        "ridge_pipeline = Pipeline(steps=[\n",
        "    ('preprocessor', preprocessor),\n",
        "    ('model', Ridge(alpha=1.0))\n",
        "])\n",
        "\n",
        "# Train and evaluate\n",
        "ridge_pipeline.fit(X_train, y_train)\n",
        "y_pred_ridge = ridge_pipeline.predict(X_test)\n",
        "\n",
        "# Performance metrics\n",
        "print(\"Ridge MSE:\", mean_squared_error(y_test, y_pred_ridge))\n",
        "print(\"Ridge R^2 Score:\", r2_score(y_test, y_pred_ridge))\n"
      ],
      "metadata": {
        "colab": {
          "base_uri": "https://localhost:8080/"
        },
        "id": "OapWS-jAYwm-",
        "outputId": "a08ea819-6e03-406b-b4b3-fa97c5171b20"
      },
      "execution_count": 24,
      "outputs": [
        {
          "output_type": "stream",
          "name": "stdout",
          "text": [
            "Ridge MSE: 23518431020377.49\n",
            "Ridge R^2 Score: 0.06653758095168238\n"
          ]
        }
      ]
    },
    {
      "cell_type": "markdown",
      "source": [
        "**Lasso Regression Model**"
      ],
      "metadata": {
        "id": "U53dUBXO-SYq"
      }
    },
    {
      "cell_type": "code",
      "source": [
        "# Define pipeline\n",
        "lasso_pipeline = Pipeline(steps=[\n",
        "    ('preprocessor', preprocessor),\n",
        "    ('model', Lasso(alpha=0.1))\n",
        "])\n",
        "\n",
        "# Train and evaluate\n",
        "lasso_pipeline.fit(X_train, y_train)\n",
        "y_pred_lasso = lasso_pipeline.predict(X_test)\n",
        "\n",
        "# Performance metrics\n",
        "print(\"Lasso Regression MSE:\", mean_squared_error(y_test, y_pred_lasso))\n",
        "print(\"Lasso RegressionR^2 Score:\", r2_score(y_test, y_pred_lasso))\n"
      ],
      "metadata": {
        "colab": {
          "base_uri": "https://localhost:8080/"
        },
        "id": "jYNMavvNYyDJ",
        "outputId": "4d5fbfa2-507f-4e67-b925-9e25ff16b3d1"
      },
      "execution_count": 25,
      "outputs": [
        {
          "output_type": "stream",
          "name": "stdout",
          "text": [
            "Lasso Regression MSE: 23536820404962.473\n",
            "Lasso RegressionR^2 Score: 0.0658076938514488\n"
          ]
        },
        {
          "output_type": "stream",
          "name": "stderr",
          "text": [
            "/usr/local/lib/python3.10/dist-packages/sklearn/linear_model/_coordinate_descent.py:697: ConvergenceWarning: Objective did not converge. You might want to increase the number of iterations, check the scale of the features or consider increasing regularisation. Duality gap: 2.721e+17, tolerance: 4.695e+14\n",
            "  model = cd_fast.enet_coordinate_descent(\n"
          ]
        }
      ]
    },
    {
      "cell_type": "markdown",
      "source": [
        "**Elastic Net Model**"
      ],
      "metadata": {
        "id": "DkasmB3T-WpS"
      }
    },
    {
      "cell_type": "code",
      "source": [
        "# L1 + L2 Regularization: Elastic Net\n",
        "# Define pipeline\n",
        "elastic_net_pipeline = Pipeline(steps=[\n",
        "    ('preprocessor', preprocessor),\n",
        "    ('model', ElasticNet(alpha=0.1, l1_ratio=0.5))\n",
        "])  # l1_ratio balances between L1 and L2 (0 = pure L2, 1 = pure L1)\n",
        "elastic_net_pipeline.fit(X_train, y_train)\n",
        "elastic_net_predictions = elastic_net_pipeline.predict(X_test)\n",
        "print(\"Elastic Net MSE:\", mean_squared_error(y_test, elastic_net_predictions))\n",
        "print(\"Elastic Net R^2 Score:\", r2_score(y_test, elastic_net_predictions))"
      ],
      "metadata": {
        "colab": {
          "base_uri": "https://localhost:8080/"
        },
        "id": "BQR7HsRtZt93",
        "outputId": "b23a4383-03ae-4cd8-d053-7c7b53420069"
      },
      "execution_count": 26,
      "outputs": [
        {
          "output_type": "stream",
          "name": "stdout",
          "text": [
            "Elastic Net MSE: 22386460966445.41\n",
            "Elastic Net R^2 Score: 0.1114662372858638\n"
          ]
        }
      ]
    },
    {
      "cell_type": "markdown",
      "source": [
        "**CONCLUSION:**\n",
        "\n",
        "Gradient Boosting Regressor has the lowest MSE with 1.04e13, which is better than 1.08e13.\n",
        "\n",
        "Random Forest Regressor has a higher MSE of 1.08e13, meaning it performed slightly worse than Gradient Boosting in terms of MSE.\n",
        "\n",
        "Both models perform well, but Gradient Boosting Regressor has a slightly better score (0.5869) compared to Random Forest (0.5711), confirming that Gradient Boosting Regressor is the best model overall, both in terms of MSE and\n",
        "𝑅2\n"
      ],
      "metadata": {
        "id": "cdNEaThZeJJt"
      }
    }
  ]
}